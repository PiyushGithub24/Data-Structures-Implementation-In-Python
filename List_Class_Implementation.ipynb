{
  "nbformat": 4,
  "nbformat_minor": 0,
  "metadata": {
    "colab": {
      "provenance": [],
      "authorship_tag": "ABX9TyMiAZ2uRtuwE2y6BbRexCd5",
      "include_colab_link": true
    },
    "kernelspec": {
      "name": "python3",
      "display_name": "Python 3"
    },
    "language_info": {
      "name": "python"
    }
  },
  "cells": [
    {
      "cell_type": "markdown",
      "metadata": {
        "id": "view-in-github",
        "colab_type": "text"
      },
      "source": [
        "<a href=\"https://colab.research.google.com/github/PiyushGithub24/Data-Structures-Implementation-In-Python/blob/main/List_Class_Implementation.ipynb\" target=\"_parent\"><img src=\"https://colab.research.google.com/assets/colab-badge.svg\" alt=\"Open In Colab\"/></a>"
      ]
    },
    {
      "cell_type": "markdown",
      "source": [
        "#List Class Implementation (Dynamic array) from scratch :--"
      ],
      "metadata": {
        "id": "9q3nXGiQeXxd"
      }
    },
    {
      "cell_type": "markdown",
      "source": [
        "##Lets first show that list is a dynamic array:-"
      ],
      "metadata": {
        "id": "vk6FIZKPengt"
      }
    },
    {
      "cell_type": "code",
      "execution_count": 1,
      "metadata": {
        "colab": {
          "base_uri": "https://localhost:8080/"
        },
        "id": "efSaAj-ceEVg",
        "outputId": "b7fb561e-85d7-4007-9186-ba7db498ad43"
      },
      "outputs": [
        {
          "output_type": "stream",
          "name": "stdout",
          "text": [
            "0 56\n",
            "1 88\n",
            "2 88\n",
            "3 88\n",
            "4 88\n",
            "5 120\n",
            "6 120\n",
            "7 120\n",
            "8 120\n",
            "9 184\n",
            "10 184\n",
            "11 184\n",
            "12 184\n",
            "13 184\n",
            "14 184\n",
            "15 184\n",
            "16 184\n",
            "17 248\n",
            "18 248\n",
            "19 248\n"
          ]
        }
      ],
      "source": [
        "import sys\n",
        "l=[]\n",
        "n=20\n",
        "for i in range(n):\n",
        "  print(i,sys.getsizeof(l))\n",
        "  l.append(i)\n"
      ]
    },
    {
      "cell_type": "markdown",
      "source": [
        "## List Functionalities:\n",
        "- 1. Create List      \n",
        "- 2. len()\n",
        "- 3. appned()\n",
        "- 4. print()\n",
        "- 5. indexing\n",
        "- 6. pop()\n",
        "- 7. clear()\n",
        "- 8. index()\n",
        "- 9. insert()\n",
        "- 10. delete\n",
        "- 11. remove()\n",
        "- 12. sort() / min() / max() / sum()\n",
        "- 13. extend()\n",
        "- 14. negative indexing\n",
        "- 15. slicing\n",
        "- 16. merge\n"
      ],
      "metadata": {
        "id": "l6CE44xWereP"
      }
    },
    {
      "cell_type": "code",
      "source": [
        "import ctypes\n",
        "class MyList:\n",
        "  # 1. Creating list\n",
        "  def __init__(self):\n",
        "    self.size=1  #size is number of bloks of list\n",
        "    self.n=0     #n is number of elements in list\n",
        "    self.A=self.__make_array(self.size)\n",
        "\n",
        "  def __make_array(self,capacity):\n",
        "      return (capacity*ctypes.py_object)()   #basically it gives a array of given size like Arr[3]\n",
        "\n",
        "  # 2. len()\n",
        "  def __len__(self):\n",
        "    return self.n\n",
        "\n",
        "  # 3. append()\n",
        "  def append(self,item):\n",
        "    if self.n==self.size:\n",
        "      self.__resize(self.size*2)\n",
        "\n",
        "    self.A[self.n]=item\n",
        "    self.n+=1\n",
        "\n",
        "  # 4. print()\n",
        "  def __str__(self):  #__str__ is a magic method which is called whenever we use print() function\n",
        "    result=''\n",
        "    for i in range(self.n):\n",
        "      result=result+str(self.A[i])+','\n",
        "    return '['+result[:-1]+']'\n",
        "\n",
        "  # 5. indexing  --+ve as well as -ve index is handeled\n",
        "  def __getitem__(self,index):\n",
        "    if 0<=abs(index)<self.n:\n",
        "      if index<0:\n",
        "        index=self.n - abs(index)\n",
        "      return self.A[index]\n",
        "    else:\n",
        "      return 'IndexError: Index out of range'\n",
        "\n",
        "  # 6. pop()\n",
        "  def pop(self,index=None):\n",
        "    if index==None:\n",
        "      if self.n==0:\n",
        "        return 'IndexError: pop from empty list'\n",
        "      else:\n",
        "        last=self.A[self.n-1]\n",
        "        self.n-=1\n",
        "        return last\n",
        "    else:\n",
        "      if 0<=index<self.n:\n",
        "        last=self.A[index]\n",
        "        for i in range(index,self.n-1):\n",
        "          self.A[i]=self.A[i+1]\n",
        "        self.n-=1\n",
        "        return last\n",
        "      else:\n",
        "          return 'IndexError: pop index out of range'\n",
        "\n",
        "\n",
        "  # 7. clear()\n",
        "  def clear(self):\n",
        "    self.n=0\n",
        "    self.size=1\n",
        "\n",
        "  # 8. index()\n",
        "  def index(self,item):\n",
        "    for i in range(self.n):\n",
        "      if self.A[i]==item:\n",
        "        return i\n",
        "    return 'ValueError: item not found'\n",
        "\n",
        "  # 9. insert()\n",
        "  def insert(self,index,item):\n",
        "    if self.n==self.size:\n",
        "      self.__resize(self.size*2)\n",
        "    if index<0:\n",
        "      if abs(index)>self.n:\n",
        "        index=0\n",
        "      else:\n",
        "        index=self.n-abs(index)\n",
        "\n",
        "    else:\n",
        "      if index>self.n:\n",
        "        index=self.n\n",
        "\n",
        "    for i in range(self.n,index,-1):\n",
        "      self.A[i]=self.A[i-1]\n",
        "    self.A[index]=item\n",
        "    self.n+=1\n",
        "\n",
        "  #10 delete\n",
        "  def __delitem__(self,index):\n",
        "    if 0<=index<self.n:\n",
        "      self.pop(index)\n",
        "    else:\n",
        "      return 'IndexError: list assignment index out of range'\n",
        "\n",
        "  def __del__(self):\n",
        "    del self.A\n",
        "\n",
        "  # 11. remove()\n",
        "  def remove(self,item):\n",
        "    index=self.index(item)\n",
        "    if type(index)==int:\n",
        "      self.pop(index)\n",
        "    else:\n",
        "      return \"ValueError: list.remove(x): x not in list\"\n",
        "\n",
        "  # 12(a). sort()\n",
        "  def sort(self):\n",
        "    for i in range(self.n-1):\n",
        "      for j in range(i+1,self.n):\n",
        "        if self.A[i]>self.A[j]:\n",
        "          self.A[i],self.A[j]=self.A[j],self.A[i]\n",
        "\n",
        "  # 12(b). min()\n",
        "  def min(self):\n",
        "    if self.n==0:\n",
        "      return 'IndexError: list index out of range'\n",
        "    else:\n",
        "      min=self.A[0]\n",
        "      for i in range(0,self.n):\n",
        "        if (type(self.A[i])==str):\n",
        "          return \"TypeError: '>' not supported between instances of 'str' and 'int'\"\n",
        "        if self.A[i]<min:\n",
        "          min=self.A[i]\n",
        "      return min\n",
        "\n",
        "  # 12(c). max()\n",
        "  def max(self):\n",
        "    if self.n==0:\n",
        "      return 'IndexError: list index out of range'\n",
        "    else:\n",
        "      max=self.A[0]\n",
        "      for i in range(0,self.n):\n",
        "        if (type(self.A[i])==str):\n",
        "          return \"TypeError: '>' not supported between instances of 'str' and 'int'\"\n",
        "        if self.A[i]>max:\n",
        "          max=self.A[i]\n",
        "      return max\n",
        "\n",
        "    # 12(d). sum()\n",
        "  def sum(self):\n",
        "      sum=0\n",
        "      for i in range(self.n):\n",
        "        if (type(self.A[i])==str):\n",
        "          return \"TypeError: unsupported operand type(s) for +: 'int' and 'str'\"\n",
        "        sum+=self.A[i]\n",
        "      return sum\n",
        "\n",
        "\n",
        "  def __resize(self,new_capacity):\n",
        "      #crete a new array of new size\n",
        "      B=self.__make_array(new_capacity)\n",
        "      self.size=new_capacity\n",
        "      #copy the elements of array A to B\n",
        "      for i in range(self.n):\n",
        "        B[i]=self.A[i]\n",
        "      self.A=B\n"
      ],
      "metadata": {
        "id": "CvZ5EwzufE1o"
      },
      "execution_count": 350,
      "outputs": []
    },
    {
      "cell_type": "code",
      "source": [
        "#creating list object\n",
        "L=MyList()"
      ],
      "metadata": {
        "id": "omcnFBxTgofL"
      },
      "execution_count": 358,
      "outputs": []
    },
    {
      "cell_type": "code",
      "source": [
        "#len() function\n",
        "len(L)"
      ],
      "metadata": {
        "colab": {
          "base_uri": "https://localhost:8080/"
        },
        "id": "xxBUDQUWgspd",
        "outputId": "4add5dc4-e404-4dd6-ea4d-ac2dd99d23cb"
      },
      "execution_count": 359,
      "outputs": [
        {
          "output_type": "execute_result",
          "data": {
            "text/plain": [
              "0"
            ]
          },
          "metadata": {},
          "execution_count": 359
        }
      ]
    },
    {
      "cell_type": "code",
      "source": [
        "#append() function\n",
        "L.append(20)\n",
        "L.append(\"Hello\")\n",
        "L.append(6.5)"
      ],
      "metadata": {
        "id": "ClPhuHf7hLaC"
      },
      "execution_count": 362,
      "outputs": []
    },
    {
      "cell_type": "code",
      "source": [
        "#print() function\n",
        "print(len(L))\n",
        "print(L)"
      ],
      "metadata": {
        "colab": {
          "base_uri": "https://localhost:8080/"
        },
        "id": "qLVaQ4d1MGcf",
        "outputId": "71f04f3f-9dbb-430f-9ee4-b3763875963e"
      },
      "execution_count": 363,
      "outputs": [
        {
          "output_type": "stream",
          "name": "stdout",
          "text": [
            "9\n",
            "[20,Hello,6.5,20,Hello,6.5,20,Hello,6.5]\n"
          ]
        }
      ]
    },
    {
      "cell_type": "code",
      "source": [
        "#indexing\n",
        "print(L[0])\n",
        "print(L[7])\n",
        "L[3]"
      ],
      "metadata": {
        "colab": {
          "base_uri": "https://localhost:8080/"
        },
        "id": "qQB6DrPpeadQ",
        "outputId": "a5d1de83-f444-4c2f-deee-427897e5e4b4"
      },
      "execution_count": 364,
      "outputs": [
        {
          "output_type": "stream",
          "name": "stdout",
          "text": [
            "20\n",
            "Hello\n"
          ]
        },
        {
          "output_type": "execute_result",
          "data": {
            "text/plain": [
              "20"
            ]
          },
          "metadata": {},
          "execution_count": 364
        }
      ]
    },
    {
      "cell_type": "code",
      "source": [
        "#pop() function:\n",
        "L.pop()"
      ],
      "metadata": {
        "colab": {
          "base_uri": "https://localhost:8080/"
        },
        "id": "6DtlmoThk-e8",
        "outputId": "69de8d3c-58a5-4a21-9ae6-83d7201a5fc0"
      },
      "execution_count": 365,
      "outputs": [
        {
          "output_type": "execute_result",
          "data": {
            "text/plain": [
              "6.5"
            ]
          },
          "metadata": {},
          "execution_count": 365
        }
      ]
    },
    {
      "cell_type": "code",
      "source": [
        "L.pop(1)"
      ],
      "metadata": {
        "colab": {
          "base_uri": "https://localhost:8080/",
          "height": 35
        },
        "id": "i19jpK7wlCxy",
        "outputId": "8d583237-a0f7-4c68-8941-b062b6e61761"
      },
      "execution_count": 366,
      "outputs": [
        {
          "output_type": "execute_result",
          "data": {
            "text/plain": [
              "'Hello'"
            ],
            "application/vnd.google.colaboratory.intrinsic+json": {
              "type": "string"
            }
          },
          "metadata": {},
          "execution_count": 366
        }
      ]
    },
    {
      "cell_type": "code",
      "source": [
        "#clear() fun :\n",
        "L.clear()"
      ],
      "metadata": {
        "id": "R5w6Jq6ilCu4"
      },
      "execution_count": 367,
      "outputs": []
    },
    {
      "cell_type": "code",
      "source": [
        "print(L)"
      ],
      "metadata": {
        "colab": {
          "base_uri": "https://localhost:8080/"
        },
        "id": "swWLcK7zlCsR",
        "outputId": "38fc64b0-3a10-452a-94a6-44a35ae6548a"
      },
      "execution_count": 368,
      "outputs": [
        {
          "output_type": "stream",
          "name": "stdout",
          "text": [
            "[]\n"
          ]
        }
      ]
    },
    {
      "cell_type": "code",
      "source": [
        "L.append(20)\n",
        "L.append(\"Hello\")\n",
        "L.append(6.5)"
      ],
      "metadata": {
        "id": "Y55bhKX_lCq3"
      },
      "execution_count": 369,
      "outputs": []
    },
    {
      "cell_type": "code",
      "source": [
        "print(L)"
      ],
      "metadata": {
        "colab": {
          "base_uri": "https://localhost:8080/"
        },
        "id": "ZhKCQr7OlCmu",
        "outputId": "d2d96d53-a74a-4d48-cecd-059c25fec24d"
      },
      "execution_count": 370,
      "outputs": [
        {
          "output_type": "stream",
          "name": "stdout",
          "text": [
            "[20,Hello,6.5]\n"
          ]
        }
      ]
    },
    {
      "cell_type": "code",
      "source": [
        "#index() fun :\n",
        "L.index(6.5)"
      ],
      "metadata": {
        "colab": {
          "base_uri": "https://localhost:8080/"
        },
        "id": "FdeToz9InKho",
        "outputId": "c988f679-2ace-47c8-8f10-8055112557cd"
      },
      "execution_count": 371,
      "outputs": [
        {
          "output_type": "execute_result",
          "data": {
            "text/plain": [
              "2"
            ]
          },
          "metadata": {},
          "execution_count": 371
        }
      ]
    },
    {
      "cell_type": "code",
      "source": [
        "#insert() fun :\n",
        "L.insert(23,897)"
      ],
      "metadata": {
        "id": "dt2l1PHqnKex"
      },
      "execution_count": 372,
      "outputs": []
    },
    {
      "cell_type": "code",
      "source": [
        "print(L)"
      ],
      "metadata": {
        "colab": {
          "base_uri": "https://localhost:8080/"
        },
        "id": "V0NI3sJanKbb",
        "outputId": "09fbc253-92a4-4fce-c67c-93bb124d73fe"
      },
      "execution_count": 373,
      "outputs": [
        {
          "output_type": "stream",
          "name": "stdout",
          "text": [
            "[20,Hello,6.5,897]\n"
          ]
        }
      ]
    },
    {
      "cell_type": "code",
      "source": [
        "L.insert(-34,8)"
      ],
      "metadata": {
        "id": "4tZ6OJODnKZ8"
      },
      "execution_count": 374,
      "outputs": []
    },
    {
      "cell_type": "code",
      "source": [
        "print(L)"
      ],
      "metadata": {
        "colab": {
          "base_uri": "https://localhost:8080/"
        },
        "id": "Ll71rHclnKX_",
        "outputId": "99281472-ee76-4116-c660-ab9cc5055398"
      },
      "execution_count": 375,
      "outputs": [
        {
          "output_type": "stream",
          "name": "stdout",
          "text": [
            "[8,20,Hello,6.5,897]\n"
          ]
        }
      ]
    },
    {
      "cell_type": "code",
      "source": [
        "#del method :\n",
        "del L"
      ],
      "metadata": {
        "id": "zx-9DiX8xBpE"
      },
      "execution_count": 376,
      "outputs": []
    },
    {
      "cell_type": "code",
      "source": [
        "print(L)"
      ],
      "metadata": {
        "colab": {
          "base_uri": "https://localhost:8080/",
          "height": 141
        },
        "id": "xx1sxghVxBk-",
        "outputId": "4f705f86-e5d8-4966-98b2-fe5d43c3a7f0"
      },
      "execution_count": 377,
      "outputs": [
        {
          "output_type": "error",
          "ename": "NameError",
          "evalue": "name 'L' is not defined",
          "traceback": [
            "\u001b[0;31m---------------------------------------------------------------------------\u001b[0m",
            "\u001b[0;31mNameError\u001b[0m                                 Traceback (most recent call last)",
            "\u001b[0;32m<ipython-input-377-70501d4a5d78>\u001b[0m in \u001b[0;36m<cell line: 0>\u001b[0;34m()\u001b[0m\n\u001b[0;32m----> 1\u001b[0;31m \u001b[0mprint\u001b[0m\u001b[0;34m(\u001b[0m\u001b[0mL\u001b[0m\u001b[0;34m)\u001b[0m\u001b[0;34m\u001b[0m\u001b[0;34m\u001b[0m\u001b[0m\n\u001b[0m",
            "\u001b[0;31mNameError\u001b[0m: name 'L' is not defined"
          ]
        }
      ]
    },
    {
      "cell_type": "code",
      "source": [
        "L=MyList()"
      ],
      "metadata": {
        "id": "8IpZNFDxxBhV"
      },
      "execution_count": 385,
      "outputs": []
    },
    {
      "cell_type": "code",
      "source": [
        "L.append(20)\n",
        "L.append(\"Hello\")\n",
        "L.append(6.5)"
      ],
      "metadata": {
        "id": "Uf8qIIDFxBf5"
      },
      "execution_count": 386,
      "outputs": []
    },
    {
      "cell_type": "code",
      "source": [
        "print(L)"
      ],
      "metadata": {
        "colab": {
          "base_uri": "https://localhost:8080/"
        },
        "id": "U_SHSD5_9dUu",
        "outputId": "9584fc83-e5c1-48b4-b436-c51a37dcae06"
      },
      "execution_count": 387,
      "outputs": [
        {
          "output_type": "stream",
          "name": "stdout",
          "text": [
            "[20,Hello,6.5]\n"
          ]
        }
      ]
    },
    {
      "cell_type": "code",
      "source": [
        "# min() ,max(),sum() andsort()\n",
        "L2=MyList()\n",
        "L2.append(34)\n",
        "L2.append(3)\n",
        "L2.append(334)\n",
        "L2.append(1)\n",
        "L2.append(7)\n",
        "\n",
        "print(L2)\n",
        "print(L2.min())\n",
        "print(L2.max())\n",
        "print(L2.sum())\n",
        "\n",
        "L2.sort()\n",
        "print(L2)"
      ],
      "metadata": {
        "colab": {
          "base_uri": "https://localhost:8080/"
        },
        "id": "yg9gBOfZM-r0",
        "outputId": "033fbf6e-947c-4c21-fbe1-c8245893a039"
      },
      "execution_count": 392,
      "outputs": [
        {
          "output_type": "stream",
          "name": "stdout",
          "text": [
            "[34,3,334,1,7]\n",
            "1\n",
            "334\n",
            "379\n",
            "[1,3,7,34,334]\n"
          ]
        }
      ]
    },
    {
      "cell_type": "code",
      "source": [
        "#negative indexing :\n",
        "print(L[2])\n",
        "print(L[-2])"
      ],
      "metadata": {
        "colab": {
          "base_uri": "https://localhost:8080/"
        },
        "id": "0k7SF0wz9dM7",
        "outputId": "228dfc0b-8842-4e37-90bd-35c26fd88cc4"
      },
      "execution_count": 388,
      "outputs": [
        {
          "output_type": "stream",
          "name": "stdout",
          "text": [
            "6.5\n",
            "Hello\n"
          ]
        }
      ]
    },
    {
      "cell_type": "code",
      "source": [],
      "metadata": {
        "id": "JGikQQ0jGQVF"
      },
      "execution_count": null,
      "outputs": []
    }
  ]
}