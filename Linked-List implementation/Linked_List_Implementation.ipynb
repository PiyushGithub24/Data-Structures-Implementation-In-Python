{
 "cells": [
  {
   "cell_type": "markdown",
   "id": "fd7ba011-1077-4084-ae5a-e03268828c3a",
   "metadata": {},
   "source": [
    "# Linked List :-\n",
    "- 1. Node Creation\n",
    "- 2. create a linked list class\n",
    "- 3. len() function\n",
    "- 4. insert from head\n",
    "- 5. traverse/print\n",
    "- 6. insert from tail(append)\n",
    "- 7. insert in middle(after)\n",
    "- 8. clear\n",
    "- 9. delete from head\n",
    "- 10. delete from tail(pop)\n",
    "- 11. delete by value(remove)\n",
    "- 12. search by value(find)\n",
    "- 13. delete by index ->del ll[0]\n",
    "- 14. search by index -->ll[0]"
   ]
  },
  {
   "cell_type": "markdown",
   "id": "350689a7-6376-4ec1-ad02-968e9db35fcf",
   "metadata": {},
   "source": [
    "## 1. create a Node class"
   ]
  },
  {
   "cell_type": "code",
   "execution_count": 103,
   "id": "de703c28-1fa2-4468-987c-560859ebf075",
   "metadata": {},
   "outputs": [],
   "source": [
    "class Node:\n",
    "    def __init__(self,value):\n",
    "        self.data=value\n",
    "        self.next=None"
   ]
  },
  {
   "cell_type": "code",
   "execution_count": 104,
   "id": "d169cc60-7670-4978-bb12-fc36eb552389",
   "metadata": {},
   "outputs": [],
   "source": [
    "a=Node(1)\n",
    "b=Node(2)\n",
    "c=Node(3)"
   ]
  },
  {
   "cell_type": "code",
   "execution_count": 105,
   "id": "7aa59998-bea9-4fcf-942b-bc8f94e36b3c",
   "metadata": {},
   "outputs": [
    {
     "name": "stdout",
     "output_type": "stream",
     "text": [
      "<__main__.Node object at 0x000002B2CEBBFC20>\n",
      "<__main__.Node object at 0x000002B2CEB848F0>\n",
      "<__main__.Node object at 0x000002B2CEB84890>\n"
     ]
    }
   ],
   "source": [
    "print(a)\n",
    "print(b)\n",
    "print(c)"
   ]
  },
  {
   "cell_type": "code",
   "execution_count": 106,
   "id": "38efefca-e309-41a0-9a15-7b072a304158",
   "metadata": {},
   "outputs": [
    {
     "name": "stdout",
     "output_type": "stream",
     "text": [
      "1\n",
      "2\n",
      "3\n"
     ]
    }
   ],
   "source": [
    "print(a.data)\n",
    "print(b.data)\n",
    "print(c.data)"
   ]
  },
  {
   "cell_type": "code",
   "execution_count": 107,
   "id": "08c36e78-70e2-44f6-b57e-309ed118c980",
   "metadata": {},
   "outputs": [
    {
     "name": "stdout",
     "output_type": "stream",
     "text": [
      "None\n",
      "None\n",
      "None\n"
     ]
    }
   ],
   "source": [
    "print(a.next)\n",
    "print(b.next)\n",
    "print(c.next)"
   ]
  },
  {
   "cell_type": "code",
   "execution_count": 108,
   "id": "645d2614-0e76-417a-a825-7a88f0d6178c",
   "metadata": {},
   "outputs": [],
   "source": [
    "#lets link them manually\n",
    "a.next=b\n",
    "b.next=c"
   ]
  },
  {
   "cell_type": "code",
   "execution_count": 109,
   "id": "df9ca65f-0e51-470a-a520-13acf17e3077",
   "metadata": {},
   "outputs": [
    {
     "name": "stdout",
     "output_type": "stream",
     "text": [
      "<__main__.Node object at 0x000002B2CEB848F0>\n",
      "<__main__.Node object at 0x000002B2CEB84890>\n",
      "None\n"
     ]
    }
   ],
   "source": [
    "#Lets check the connection\n",
    "print(a.next)\n",
    "print(b.next)\n",
    "print(c.next)"
   ]
  },
  {
   "cell_type": "markdown",
   "id": "ae8a6c2b-dd6b-410b-a06e-9a5430a00bc8",
   "metadata": {},
   "source": [
    "## 2.create a Linked List class:"
   ]
  },
  {
   "cell_type": "code",
   "execution_count": 136,
   "id": "3a6aa271-fd5e-48f1-b047-df07ca381c6f",
   "metadata": {},
   "outputs": [],
   "source": [
    "class Linked_List:\n",
    "    def __init__(self):\n",
    "        self.head=None #iniially head point to none since ll is empty\n",
    "        self.n=0       #Number of nodes in LL(linked list)\n",
    "\n",
    "    # 3.len() :\n",
    "    def __len__(self):\n",
    "        return self.n\n",
    "\n",
    "    # 4.insert from head :\n",
    "    def insert_head(self,value):\n",
    "        new_node=Node(value)\n",
    "        new_node.next=self.head\n",
    "        self.head=new_node\n",
    "        self.n=self.n + 1\n",
    "\n",
    "    # 5.traverse/print\n",
    "    def __str__(self):\n",
    "        curr=self.head\n",
    "        result =''\n",
    "        while(curr!=None):\n",
    "            result+= str(curr.data) + '->'\n",
    "            curr=curr.next\n",
    "        return result[:-2]\n",
    "\n",
    "    # 6.insert from tail(append)\n",
    "    def append(self,value):\n",
    "        new_node=Node(value)\n",
    "        if (self.head==None):\n",
    "            self.head=new_node\n",
    "            self.n +=1\n",
    "            return\n",
    "        curr=self.head\n",
    "        while(curr.next!=None):\n",
    "            curr=curr.next\n",
    "        curr.next=new_node\n",
    "        self.n+=1\n",
    "\n",
    "    # 7.insert in middle(after)\n",
    "    def insert_after(self,after,value):\n",
    "        new_node=Node(value)\n",
    "        curr=self.head\n",
    "        while curr!=None:\n",
    "            if curr.data==after:\n",
    "                break\n",
    "            curr=curr.next\n",
    "        #two cases :\n",
    "        #case :1>after element not found\n",
    "        if curr==None:\n",
    "            return \"item not found\"\n",
    "        #case: 2>item found    \n",
    "        else:\n",
    "            new_node.next=curr.next\n",
    "            curr.next=new_node\n",
    "            self.n +=1\n",
    "\n",
    "    # 8.clear the Linked List\n",
    "    def clear(self):\n",
    "        self.head=None\n",
    "        self.n=0\n",
    "\n",
    "\n",
    "    # 9.delete from head :\n",
    "    def delete_head(self):\n",
    "        if (self.n==0):\n",
    "            return \"Empty Linked List\"\n",
    "        self.head=self.head.next\n",
    "        self.n-=1\n",
    "\n",
    "\n",
    "    # 10. delete from tail(pop) :\n",
    "    def pop(self):\n",
    "        if (self.n==0):\n",
    "            return \"Empty Linked List\"\n",
    "        elif (self.n==1):\n",
    "            self.head=None\n",
    "            self.n-=1\n",
    "        else:\n",
    "            curr=self.head\n",
    "            while(curr.next.next !=None):\n",
    "                curr=curr.next\n",
    "            curr.next=None\n",
    "            self.n-=1\n",
    "\n",
    "    # 11.delete by value(remove) :\n",
    "    def remove(self,value):\n",
    "        if(self.head==None):\n",
    "            return \"Empty Linked List\"\n",
    "        if(self.head.data==value):\n",
    "            return self.delete_head()\n",
    "\n",
    "        curr=self.head\n",
    "        while(curr.next!=None):\n",
    "            if (curr.next.data==value):\n",
    "                break\n",
    "            curr=curr.next\n",
    "\n",
    "        if(curr.next==None):\n",
    "            return \"Item not found\"\n",
    "        else:\n",
    "            curr.next=curr.next.next\n",
    "            self.n-=1\n",
    "\n",
    "    # 12. search by value(find) :\n",
    "    def find(self,value):  #return index value of item\n",
    "        count=0\n",
    "        curr=self.head\n",
    "        while(curr!=None):\n",
    "            if(curr.data==value):\n",
    "                return count\n",
    "            else:\n",
    "                count+=1\n",
    "                curr=curr.next\n",
    "\n",
    "        return \"Item not found\"\n",
    "        \n",
    "        \n",
    "    # 13. delete by index : -->del ll[2]\n",
    "    def __delitem__(self,index):\n",
    "        if (0<=index<self.n):\n",
    "            if (index==0):\n",
    "                return self.delete_head()\n",
    "            count=0\n",
    "            curr=self.head\n",
    "            while(count+1!=index):\n",
    "                count+=1\n",
    "                curr=curr.next\n",
    "            curr.next=curr.next.next\n",
    "            self.n-=1\n",
    "        \n",
    "        elif(self.head==None):\n",
    "            print(\"Empty Linked list\")\n",
    "            return \n",
    "        \n",
    "        else:\n",
    "            print(\"Index Error\")\n",
    "            return \n",
    "            \n",
    "\n",
    "    # 14. search by index : -->ll[2]\n",
    "    def __getitem__(self,index):\n",
    "        if (0<=index<self.n):\n",
    "            count=0\n",
    "            curr=self.head\n",
    "            while(index!=count):\n",
    "                count+=1\n",
    "                curr=curr.next\n",
    "            return curr.data\n",
    "        else:\n",
    "            return \"index Error\""
   ]
  },
  {
   "cell_type": "code",
   "execution_count": 137,
   "id": "c7d4c54b-bbbc-4a13-acfa-fff757c8a5ae",
   "metadata": {},
   "outputs": [
    {
     "name": "stdout",
     "output_type": "stream",
     "text": [
      "None\n",
      "0\n"
     ]
    }
   ],
   "source": [
    "#2 linked list creation:\n",
    "ll=Linked_List()\n",
    "print(ll.head)\n",
    "print(ll.n)"
   ]
  },
  {
   "cell_type": "code",
   "execution_count": 138,
   "id": "45b1cffb-3496-4acd-b7b7-3f86bb580d55",
   "metadata": {},
   "outputs": [
    {
     "name": "stdout",
     "output_type": "stream",
     "text": [
      "0\n"
     ]
    },
    {
     "data": {
      "text/plain": [
       "0"
      ]
     },
     "execution_count": 138,
     "metadata": {},
     "output_type": "execute_result"
    }
   ],
   "source": [
    "# 3.len() function:\n",
    "ll=Linked_List()\n",
    "print(len(ll))\n",
    "len(ll)"
   ]
  },
  {
   "cell_type": "code",
   "execution_count": 139,
   "id": "f78e1f67-dbfc-4d12-9d1c-40909fc30fce",
   "metadata": {},
   "outputs": [
    {
     "name": "stdout",
     "output_type": "stream",
     "text": [
      "3\n",
      "<__main__.Node object at 0x000002B2CEA7F560>\n"
     ]
    }
   ],
   "source": [
    "# 4.insert from head :\n",
    "ll=Linked_List()\n",
    "ll.insert_head(1)\n",
    "ll.insert_head(2)\n",
    "ll.insert_head(3)\n",
    "\n",
    "print(len(ll))\n",
    "\n",
    "print(ll.head)"
   ]
  },
  {
   "cell_type": "code",
   "execution_count": 140,
   "id": "06ccba34-3471-42ae-94e8-4040f766905e",
   "metadata": {},
   "outputs": [
    {
     "name": "stdout",
     "output_type": "stream",
     "text": [
      "3->2->1\n"
     ]
    }
   ],
   "source": [
    "# 5.print the ll:\n",
    "ll=Linked_List()\n",
    "ll.insert_head(1)\n",
    "ll.insert_head(2)\n",
    "ll.insert_head(3)\n",
    "print(ll)"
   ]
  },
  {
   "cell_type": "code",
   "execution_count": 141,
   "id": "895d67da-d76e-4fbb-83e0-2a03a3a15185",
   "metadata": {},
   "outputs": [
    {
     "name": "stdout",
     "output_type": "stream",
     "text": [
      "1->2->3\n"
     ]
    }
   ],
   "source": [
    "# 6.insert from tail(append)\n",
    "ll=Linked_List()\n",
    "ll.insert_head(1)\n",
    "ll.append(2)\n",
    "ll.append(3)\n",
    "print(ll)"
   ]
  },
  {
   "cell_type": "code",
   "execution_count": 142,
   "id": "e7047d20-d7b5-4688-a704-a21dcde6086e",
   "metadata": {},
   "outputs": [
    {
     "name": "stdout",
     "output_type": "stream",
     "text": [
      "1->2->3\n",
      "1->2->30->3\n"
     ]
    }
   ],
   "source": [
    "# 7.insert in middle(after)\n",
    "ll=Linked_List()\n",
    "ll.insert_head(1)\n",
    "ll.append(2)\n",
    "ll.append(3)\n",
    "print(ll)\n",
    "ll.insert_after(2,30)\n",
    "print(ll)"
   ]
  },
  {
   "cell_type": "code",
   "execution_count": 143,
   "id": "6b28f290-6844-44e6-a8a4-552c6df40f2d",
   "metadata": {},
   "outputs": [
    {
     "name": "stdout",
     "output_type": "stream",
     "text": [
      "1->2->3\n",
      "ll : \n"
     ]
    }
   ],
   "source": [
    "# 8.clear :\n",
    "ll=Linked_List()\n",
    "ll.insert_head(1)\n",
    "ll.append(2)\n",
    "ll.append(3)\n",
    "print(ll)\n",
    "ll.clear()\n",
    "print(\"ll :\",ll)"
   ]
  },
  {
   "cell_type": "code",
   "execution_count": 144,
   "id": "f1d6c25f-3817-4415-bcad-707c14d5a081",
   "metadata": {},
   "outputs": [
    {
     "name": "stdout",
     "output_type": "stream",
     "text": [
      "1->2->3\n",
      "2->3\n"
     ]
    }
   ],
   "source": [
    "# 9. delete from head :\n",
    "ll=Linked_List()\n",
    "ll.insert_head(1)\n",
    "ll.append(2)\n",
    "ll.append(3)\n",
    "print(ll)\n",
    "ll.delete_head()\n",
    "print(ll)"
   ]
  },
  {
   "cell_type": "code",
   "execution_count": 145,
   "id": "e9b0827d-669a-49cb-bfde-8d3be619e409",
   "metadata": {},
   "outputs": [
    {
     "name": "stdout",
     "output_type": "stream",
     "text": [
      "1->2->3\n",
      "1->2\n"
     ]
    }
   ],
   "source": [
    "# 10. delete from tail(pop) :\n",
    "ll=Linked_List()\n",
    "ll.insert_head(1)\n",
    "ll.append(2)\n",
    "ll.append(3)\n",
    "print(ll)\n",
    "ll.pop()\n",
    "print(ll)"
   ]
  },
  {
   "cell_type": "code",
   "execution_count": 146,
   "id": "37a9ce4a-e81d-432d-90d0-9e6acb304576",
   "metadata": {},
   "outputs": [
    {
     "name": "stdout",
     "output_type": "stream",
     "text": [
      "1->2->3\n",
      "1->3\n"
     ]
    }
   ],
   "source": [
    "# 11. delete by  value(remove) :\n",
    "ll=Linked_List()\n",
    "ll.insert_head(1)\n",
    "ll.append(2)\n",
    "ll.append(3)\n",
    "print(ll)\n",
    "ll.remove(2)\n",
    "print(ll)"
   ]
  },
  {
   "cell_type": "code",
   "execution_count": 147,
   "id": "04be4396-0662-48a0-939f-d25d6f700d34",
   "metadata": {},
   "outputs": [
    {
     "name": "stdout",
     "output_type": "stream",
     "text": [
      "1->2->3\n",
      "2\n"
     ]
    }
   ],
   "source": [
    "# 12. search by value(find) :\n",
    "ll=Linked_List()\n",
    "ll.insert_head(1)\n",
    "ll.append(2)\n",
    "ll.append(3)\n",
    "print(ll)\n",
    "print(ll.find(3))  #index"
   ]
  },
  {
   "cell_type": "code",
   "execution_count": 150,
   "id": "155f6595-7a56-429a-9627-46f15f6a991a",
   "metadata": {},
   "outputs": [
    {
     "name": "stdout",
     "output_type": "stream",
     "text": [
      "1->2->3\n",
      "Index Error\n",
      "1->2->3\n",
      "1->3\n"
     ]
    }
   ],
   "source": [
    "# 13.delete by index :delll[2]\n",
    "ll=Linked_List()\n",
    "ll.insert_head(1)\n",
    "ll.append(2)\n",
    "ll.append(3)\n",
    "print(ll)\n",
    "del ll[333]\n",
    "print(ll)\n",
    "del ll[1]\n",
    "print(ll)"
   ]
  },
  {
   "cell_type": "code",
   "execution_count": 152,
   "id": "7a219cad-5e68-4eb2-818d-5e4c90186afa",
   "metadata": {},
   "outputs": [
    {
     "name": "stdout",
     "output_type": "stream",
     "text": [
      "1->2->3\n",
      "Second element of ll : 2\n"
     ]
    }
   ],
   "source": [
    "# 14. search by index(ll[2]) :\n",
    "ll=Linked_List()\n",
    "ll.insert_head(1)\n",
    "ll.append(2)\n",
    "ll.append(3)\n",
    "print(ll)\n",
    "print(\"Second element of ll :\",ll[1])"
   ]
  },
  {
   "cell_type": "markdown",
   "id": "afba394a-d415-4c28-983d-cedb30ba2b2a",
   "metadata": {},
   "source": [
    "#### finally we implemented the linked list from scratch"
   ]
  },
  {
   "cell_type": "code",
   "execution_count": null,
   "id": "4be043d0-93c8-4cb8-9be0-8d94473d87d2",
   "metadata": {},
   "outputs": [],
   "source": []
  }
 ],
 "metadata": {
  "kernelspec": {
   "display_name": "Python 3 (ipykernel)",
   "language": "python",
   "name": "python3"
  },
  "language_info": {
   "codemirror_mode": {
    "name": "ipython",
    "version": 3
   },
   "file_extension": ".py",
   "mimetype": "text/x-python",
   "name": "python",
   "nbconvert_exporter": "python",
   "pygments_lexer": "ipython3",
   "version": "3.12.3"
  }
 },
 "nbformat": 4,
 "nbformat_minor": 5
}
